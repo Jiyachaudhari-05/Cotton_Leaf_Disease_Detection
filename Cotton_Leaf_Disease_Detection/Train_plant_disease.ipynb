{
 "cells": [
  {
   "cell_type": "markdown",
   "id": "197e5d07-d47a-4fa2-8db9-3ab3bf82e870",
   "metadata": {},
   "source": [
    "Importing Libraries"
   ]
  },
  {
   "cell_type": "code",
   "execution_count": 7,
   "id": "ccf40977-3683-4a2f-9e45-2c8a768cab1b",
   "metadata": {},
   "outputs": [],
   "source": [
    "import tensorflow as tf\n",
    "import matplotlib.pyplot as plt\n",
    "import pandas as pd\n",
    "import seaborn as sns"
   ]
  },
  {
   "cell_type": "markdown",
   "id": "0b804d0c-e4f8-4e5d-bf41-fe8ffef9ec04",
   "metadata": {},
   "source": [
    "Data Preprocessing\r\n",
    "Training Image Processing"
   ]
  },
  {
   "cell_type": "code",
   "execution_count": 10,
   "id": "3e1d4d1c-434f-4ad7-b23a-3fb315e8f292",
   "metadata": {},
   "outputs": [
    {
     "name": "stdout",
     "output_type": "stream",
     "text": [
      "Found 304 files belonging to 2 classes.\n"
     ]
    }
   ],
   "source": [
    "training_set = tf.keras.utils.image_dataset_from_directory(\n",
    "    'train',\n",
    "    labels=\"inferred\",\n",
    "    label_mode=\"categorical\",\n",
    "    class_names=None,\n",
    "    color_mode=\"rgb\",\n",
    "    batch_size=32,\n",
    "    image_size=(128,128),\n",
    "    shuffle=True,\n",
    "    seed=None,\n",
    "    validation_split=None,\n",
    "    subset=None,\n",
    "    interpolation=\"bilinear\",\n",
    "    follow_links=False,\n",
    "    crop_to_aspect_ratio=False,\n",
    "    pad_to_aspect_ratio=False,\n",
    "    data_format=None,\n",
    "    verbose=True,\n",
    ")"
   ]
  },
  {
   "cell_type": "markdown",
   "id": "2506684b-3e5b-4b6a-a47a-8ed06e0fa513",
   "metadata": {},
   "source": [
    "Validation Image Preprocessing"
   ]
  },
  {
   "cell_type": "code",
   "execution_count": 13,
   "id": "6f7c3287-6bd4-426b-a07b-22f8b4f61f8b",
   "metadata": {},
   "outputs": [
    {
     "name": "stdout",
     "output_type": "stream",
     "text": [
      "Found 101 files belonging to 2 classes.\n"
     ]
    }
   ],
   "source": [
    "validation_set = tf.keras.utils.image_dataset_from_directory(\n",
    "    'val',\n",
    "    labels=\"inferred\",\n",
    "    label_mode=\"categorical\",\n",
    "    class_names=None,\n",
    "    color_mode=\"rgb\",\n",
    "    batch_size=32,\n",
    "    image_size=(128, 128),\n",
    "    shuffle=True,\n",
    "    seed=None,\n",
    "    validation_split=None,\n",
    "    subset=None,\n",
    "    interpolation=\"bilinear\",\n",
    "    follow_links=False,\n",
    "    crop_to_aspect_ratio=False,\n",
    "    pad_to_aspect_ratio=False,\n",
    "    data_format=None,\n",
    "    verbose=True,\n",
    ")"
   ]
  },
  {
   "cell_type": "code",
   "execution_count": 15,
   "id": "bc18a1a0-01e0-4a2f-8b40-255a31db986f",
   "metadata": {},
   "outputs": [
    {
     "data": {
      "text/plain": [
       "<_PrefetchDataset element_spec=(TensorSpec(shape=(None, 128, 128, 3), dtype=tf.float32, name=None), TensorSpec(shape=(None, 2), dtype=tf.float32, name=None))>"
      ]
     },
     "execution_count": 15,
     "metadata": {},
     "output_type": "execute_result"
    }
   ],
   "source": [
    "training_set\n"
   ]
  },
  {
   "cell_type": "code",
   "execution_count": 17,
   "id": "b0147c51-e7bd-49f4-b6f1-09cb022433a2",
   "metadata": {
    "scrolled": true
   },
   "outputs": [
    {
     "name": "stdout",
     "output_type": "stream",
     "text": [
      "tf.Tensor(\n",
      "[[[[149.0625    139.375      93.5      ]\n",
      "   [138.0625    129.84375    92.6875   ]\n",
      "   [ 19.78125    17.          6.78125  ]\n",
      "   ...\n",
      "   [ 80.15625    85.28125    49.71875  ]\n",
      "   [ 88.8125     96.25       54.6875   ]\n",
      "   [ 85.15625    91.03125    53.96875  ]]\n",
      "\n",
      "  [[134.75      129.375      81.6875   ]\n",
      "   [140.65625   134.65625    84.65625  ]\n",
      "   [121.375     108.875      80.09375  ]\n",
      "   ...\n",
      "   [ 93.34375   103.34375    67.71875  ]\n",
      "   [ 87.1875     97.1875     62.34375  ]\n",
      "   [ 95.125     106.5        68.8125   ]]\n",
      "\n",
      "  [[141.40625   137.84375    86.65625  ]\n",
      "   [140.34375   134.90625    86.34375  ]\n",
      "   [159.1875    152.75      107.375    ]\n",
      "   ...\n",
      "   [101.125     107.125      69.125    ]\n",
      "   [114.        117.125      77.53125  ]\n",
      "   [109.90625   116.71875    76.28125  ]]\n",
      "\n",
      "  ...\n",
      "\n",
      "  [[ 50.0625     56.0625     22.0625   ]\n",
      "   [ 62.3125     68.3125     32.6875   ]\n",
      "   [ 55.         56.5625     22.75     ]\n",
      "   ...\n",
      "   [121.90625   111.90625    99.90625  ]\n",
      "   [138.84375   129.03125   116.46875  ]\n",
      "   [141.9375    132.75      118.3125   ]]\n",
      "\n",
      "  [[ 49.8125     56.1875     22.8125   ]\n",
      "   [ 56.71875    62.40625    23.625    ]\n",
      "   [ 60.625      66.         30.9375   ]\n",
      "   ...\n",
      "   [123.875     113.875     101.875    ]\n",
      "   [126.09375   116.09375   104.09375  ]\n",
      "   [133.59375   123.59375   111.59375  ]]\n",
      "\n",
      "  [[ 49.         55.125      24.125    ]\n",
      "   [ 55.40625    61.125      27.6875   ]\n",
      "   [ 99.40625   104.75       58.96875  ]\n",
      "   ...\n",
      "   [124.125     113.4375     97.875    ]\n",
      "   [138.71875   128.71875   116.71875  ]\n",
      "   [134.5       124.5       112.5      ]]]\n",
      "\n",
      "\n",
      " [[[167.63477   170.63477   126.384766 ]\n",
      "   [168.89624   171.45312   119.78247  ]\n",
      "   [138.3313    150.42114    66.19824  ]\n",
      "   ...\n",
      "   [155.92969   208.92969   119.80469  ]\n",
      "   [162.39868   211.39868   121.25195  ]\n",
      "   [164.77734   209.77734   117.09766  ]]\n",
      "\n",
      "  [[163.88232   159.88232   123.944824 ]\n",
      "   [191.00537   188.06787   142.88037  ]\n",
      "   [161.86377   166.68091   101.7771   ]\n",
      "   ...\n",
      "   [155.3274    214.0149    117.616455 ]\n",
      "   [154.89551   209.83301   116.326416 ]\n",
      "   [157.95703   208.95703   114.757324 ]]\n",
      "\n",
      "  [[176.87158   172.43384   129.39551  ]\n",
      "   [166.73877   160.73877   110.61377  ]\n",
      "   [178.44385   177.27979   119.52319  ]\n",
      "   ...\n",
      "   [151.82959   208.51172   114.35181  ]\n",
      "   [157.1023    210.1023    120.70386  ]\n",
      "   [159.96094   208.88647   122.42578  ]]\n",
      "\n",
      "  ...\n",
      "\n",
      "  [[200.7898    196.40283   165.39111  ]\n",
      "   [196.02588   195.09302   155.81494  ]\n",
      "   [218.9585    220.87793   180.9585   ]\n",
      "   ...\n",
      "   [240.66919   229.47021   196.71362  ]\n",
      "   [200.39355   187.39355   155.26855  ]\n",
      "   [245.80615   236.11865   209.86865  ]]\n",
      "\n",
      "  [[233.7146    218.87866   194.13257  ]\n",
      "   [228.78784   214.78784   185.84009  ]\n",
      "   [209.70703   198.15845   169.50537  ]\n",
      "   ...\n",
      "   [245.42456   232.2417    200.79028  ]\n",
      "   [161.16406   149.38037   117.38037  ]\n",
      "   [245.91211   238.36646   210.99243  ]]\n",
      "\n",
      "  [[229.14307   217.61572   190.67041  ]\n",
      "   [217.31323   203.31323   175.36792  ]\n",
      "   [213.4851    201.6919    175.27832  ]\n",
      "   ...\n",
      "   [209.87842   207.28882   162.98389  ]\n",
      "   [241.33911   242.29053   190.78662  ]\n",
      "   [233.54639   236.35571   183.9768   ]]]\n",
      "\n",
      "\n",
      " [[[120.5       163.5       110.03125  ]\n",
      "   [133.10645   171.94385   103.453125 ]\n",
      "   [141.354     170.76025    69.166504 ]\n",
      "   ...\n",
      "   [231.72412   248.72412   240.06787  ]\n",
      "   [220.46875   240.6377    224.21582  ]\n",
      "   [190.99902   212.4375    167.92822  ]]\n",
      "\n",
      "  [[149.5874    193.6499    149.75635  ]\n",
      "   [137.9497    181.35596   129.98096  ]\n",
      "   [133.46973   168.47021    95.95361  ]\n",
      "   ...\n",
      "   [235.2959    251.32715   253.29736  ]\n",
      "   [238.95312   253.04688   253.04688  ]\n",
      "   [238.95312   253.        254.04688  ]]\n",
      "\n",
      "  [[174.92188   208.98438   177.45312  ]\n",
      "   [171.625     208.625     174.65674  ]\n",
      "   [147.90381   187.5625    138.25195  ]\n",
      "   ...\n",
      "   [230.2456    249.03564   250.64062  ]\n",
      "   [235.        253.        253.       ]\n",
      "   [235.        253.        253.       ]]\n",
      "\n",
      "  ...\n",
      "\n",
      "  [[169.33838   171.375      87.75488  ]\n",
      "   [161.76465   164.3584     93.57715  ]\n",
      "   [171.69629   175.66504   111.85254  ]\n",
      "   ...\n",
      "   [127.        135.3125    116.8125   ]\n",
      "   [138.95264   136.96729   114.936035 ]\n",
      "   [146.07812   144.11963   121.27588  ]]\n",
      "\n",
      "  [[185.10889   181.49023   112.85254  ]\n",
      "   [110.96094    96.91406    60.157227 ]\n",
      "   [167.56006   171.32617   103.7793   ]\n",
      "   ...\n",
      "   [115.95117   122.92139   102.38965  ]\n",
      "   [141.74121   137.0503    110.40967  ]\n",
      "   [164.7876    156.8501    127.8501   ]]\n",
      "\n",
      "  [[159.05615   167.02393    84.0542   ]\n",
      "   [158.87549   163.84424    83.06592  ]\n",
      "   [190.94092   196.94092   124.97217  ]\n",
      "   ...\n",
      "   [127.484375  125.447754   97.083496 ]\n",
      "   [160.01562   154.20947   124.59668  ]\n",
      "   [168.92188   158.9917    126.43848  ]]]\n",
      "\n",
      "\n",
      " ...\n",
      "\n",
      "\n",
      " [[[ 54.5625     84.375      15.90625  ]\n",
      "   [ 59.84375    94.6875     27.625    ]\n",
      "   [ 40.09375    72.09375     5.53125  ]\n",
      "   ...\n",
      "   [ 78.625     111.6875     49.5      ]\n",
      "   [ 76.21875   115.78125    47.25     ]\n",
      "   [ 59.8125     90.375      32.125    ]]\n",
      "\n",
      "  [[ 92.8125    146.625       2.40625  ]\n",
      "   [ 91.        144.09375     7.78125  ]\n",
      "   [ 88.59375   133.09375    13.3125   ]\n",
      "   ...\n",
      "   [ 57.09375    88.65625    24.875    ]\n",
      "   [ 83.96875   114.96875    47.4375   ]\n",
      "   [ 67.21875   102.375      40.09375  ]]\n",
      "\n",
      "  [[ 98.03125   159.03125     0.       ]\n",
      "   [101.03125   154.25       10.15625  ]\n",
      "   [ 83.40625   126.40625     5.0625   ]\n",
      "   ...\n",
      "   [ 44.71875    77.5        30.5      ]\n",
      "   [109.875     141.40625    79.625    ]\n",
      "   [142.09375   173.09375    94.71875  ]]\n",
      "\n",
      "  ...\n",
      "\n",
      "  [[ 61.6875     55.375      21.71875  ]\n",
      "   [ 44.78125    37.78125    19.4375   ]\n",
      "   [107.90625    99.34375    61.21875  ]\n",
      "   ...\n",
      "   [ 65.09375    58.65625    37.96875  ]\n",
      "   [ 89.21875    82.75       62.09375  ]\n",
      "   [ 74.125      68.125      46.125    ]]\n",
      "\n",
      "  [[ 77.4375     73.75       29.       ]\n",
      "   [124.5       116.625      69.5      ]\n",
      "   [119.75      106.75       64.1875   ]\n",
      "   ...\n",
      "   [ 93.03125    78.9375     61.15625  ]\n",
      "   [ 64.4375     61.4375     46.625    ]\n",
      "   [ 41.71875    36.78125    26.40625  ]]\n",
      "\n",
      "  [[149.78125   137.9375     96.15625  ]\n",
      "   [154.46875   143.53125    97.34375  ]\n",
      "   [127.375     115.375      74.375    ]\n",
      "   ...\n",
      "   [111.40625   104.3125     74.       ]\n",
      "   [ 79.8125     73.25       34.65625  ]\n",
      "   [ 52.875      44.40625    35.28125  ]]]\n",
      "\n",
      "\n",
      " [[[ 67.53125    83.09375    53.21875  ]\n",
      "   [107.53125   117.09375    28.34375  ]\n",
      "   [ 59.34375    58.9375     22.84375  ]\n",
      "   ...\n",
      "   [172.25      200.8125    138.125    ]\n",
      "   [185.625     211.84375   146.96875  ]\n",
      "   [164.09375   189.21875   107.5625   ]]\n",
      "\n",
      "  [[ 65.8125     83.59375    50.4375   ]\n",
      "   [141.15625   150.84375    63.21875  ]\n",
      "   [ 79.125      86.78125    14.8125   ]\n",
      "   ...\n",
      "   [168.8125    202.53125   139.875    ]\n",
      "   [165.25      193.03125   124.1875   ]\n",
      "   [167.03125   190.875     116.5      ]]\n",
      "\n",
      "  [[ 55.5        62.          3.40625  ]\n",
      "   [114.15625   121.5625     33.53125  ]\n",
      "   [ 73.03125    81.40625     5.96875  ]\n",
      "   ...\n",
      "   [156.15625   189.375     125.96875  ]\n",
      "   [174.84375   201.125     135.1875   ]\n",
      "   [173.84375   194.125     122.40625  ]]\n",
      "\n",
      "  ...\n",
      "\n",
      "  [[ 41.75       33.75       22.75     ]\n",
      "   [ 42.6875     34.0625     25.25     ]\n",
      "   [ 44.5625     36.1875     25.       ]\n",
      "   ...\n",
      "   [ 58.3125     84.6875     38.21875  ]\n",
      "   [ 58.5        84.125      36.9375   ]\n",
      "   [ 56.125      81.5625     36.375    ]]\n",
      "\n",
      "  [[ 40.46875    32.09375    22.78125  ]\n",
      "   [ 52.8125     43.125      33.4375   ]\n",
      "   [ 51.46875    42.84375    32.15625  ]\n",
      "   ...\n",
      "   [ 77.5625    102.15625    47.03125  ]\n",
      "   [ 77.1875    102.125      53.1875   ]\n",
      "   [ 66.1875     89.1875     46.5625   ]]\n",
      "\n",
      "  [[ 43.0625     35.0625     24.0625   ]\n",
      "   [ 63.125      51.5625     39.4375   ]\n",
      "   [ 20.         16.4375      8.3125   ]\n",
      "   ...\n",
      "   [ 22.4375     18.78125    12.       ]\n",
      "   [ 52.71875    74.28125    32.4375   ]\n",
      "   [ 46.53125    65.84375    27.40625  ]]]\n",
      "\n",
      "\n",
      " [[[ 81.98425    92.98425    59.578003 ]\n",
      "   [ 77.92932    88.92932    55.52307  ]\n",
      "   [ 81.266235   92.266235   58.266235 ]\n",
      "   ...\n",
      "   [ 11.4021     18.08899     3.4952393]\n",
      "   [ 13.76001    21.056885    3.0721436]\n",
      "   [ 18.008057   26.008057    2.7111816]]\n",
      "\n",
      "  [[ 71.47473    81.47473    47.47473  ]\n",
      "   [ 74.8761     84.8761     50.8761   ]\n",
      "   [ 75.170044   85.170044   51.170044 ]\n",
      "   ...\n",
      "   [ 57.007812   65.50183    14.404419 ]\n",
      "   [ 69.40503    78.40503    21.40503  ]\n",
      "   [114.2207    120.448364   69.07263  ]]\n",
      "\n",
      "  [[ 89.85095    99.85095    64.85095  ]\n",
      "   [ 87.         97.         62.       ]\n",
      "   [ 81.104614   91.104614   56.104614 ]\n",
      "   ...\n",
      "   [ 91.04724   105.04724    52.04724  ]\n",
      "   [101.        115.         56.       ]\n",
      "   [ 78.64783    89.64783    33.647827 ]]\n",
      "\n",
      "  ...\n",
      "\n",
      "  [[ 42.819702   54.819702   16.819702 ]\n",
      "   [ 39.0625     51.0625     13.0625   ]\n",
      "   [ 42.614136   54.614136   16.614136 ]\n",
      "   ...\n",
      "   [ 68.14844    49.148438   35.148438 ]\n",
      "   [ 64.39844    60.447144   30.951294 ]\n",
      "   [ 92.81189   103.81189    47.81189  ]]\n",
      "\n",
      "  [[ 51.35791    61.35791    24.35791  ]\n",
      "   [ 42.57141    52.57141    15.571411 ]\n",
      "   [ 34.875      45.875       5.875    ]\n",
      "   ...\n",
      "   [ 75.71277    56.71277    42.71277  ]\n",
      "   [ 67.88501    56.619385   38.752197 ]\n",
      "   [ 86.2113     96.63318    37.500366 ]]\n",
      "\n",
      "  [[ 50.59375    61.59375    21.59375  ]\n",
      "   [ 54.296875   65.296875   25.296875 ]\n",
      "   [ 54.703125   65.703125   25.703125 ]\n",
      "   ...\n",
      "   [ 82.28064    63.28064    49.28064  ]\n",
      "   [ 74.37427    56.374268   46.374268 ]\n",
      "   [ 95.929565  107.929565   44.50769  ]]]], shape=(32, 128, 128, 3), dtype=float32) (32, 128, 128, 3)\n",
      "tf.Tensor(\n",
      "[[0. 1.]\n",
      " [0. 1.]\n",
      " [0. 1.]\n",
      " [1. 0.]\n",
      " [1. 0.]\n",
      " [1. 0.]\n",
      " [1. 0.]\n",
      " [1. 0.]\n",
      " [1. 0.]\n",
      " [1. 0.]\n",
      " [0. 1.]\n",
      " [1. 0.]\n",
      " [1. 0.]\n",
      " [1. 0.]\n",
      " [1. 0.]\n",
      " [0. 1.]\n",
      " [0. 1.]\n",
      " [0. 1.]\n",
      " [1. 0.]\n",
      " [0. 1.]\n",
      " [0. 1.]\n",
      " [1. 0.]\n",
      " [0. 1.]\n",
      " [1. 0.]\n",
      " [1. 0.]\n",
      " [1. 0.]\n",
      " [0. 1.]\n",
      " [1. 0.]\n",
      " [0. 1.]\n",
      " [1. 0.]\n",
      " [1. 0.]\n",
      " [1. 0.]], shape=(32, 2), dtype=float32) (32, 2)\n"
     ]
    }
   ],
   "source": [
    " for x,y in training_set:\n",
    "     print(x,x.shape)\n",
    "     print(y,y.shape)\n",
    "     break"
   ]
  },
  {
   "cell_type": "markdown",
   "id": "53403d3f-5897-42ba-85e6-1624b44f457e",
   "metadata": {},
   "source": [
    "Building Model"
   ]
  },
  {
   "cell_type": "code",
   "execution_count": 85,
   "id": "da25303c-a8fd-42fe-ac52-d633e1834e6a",
   "metadata": {},
   "outputs": [],
   "source": [
    "from tensorflow.keras.layers import Conv2D, MaxPooling2D, Flatten, Dense,Dropout\n",
    "from tensorflow.keras.models import Sequential"
   ]
  },
  {
   "cell_type": "code",
   "execution_count": 87,
   "id": "94ca3648-1707-475d-a214-0457d42f1ff6",
   "metadata": {},
   "outputs": [],
   "source": [
    "model = Sequential()"
   ]
  },
  {
   "cell_type": "code",
   "execution_count": 89,
   "id": "3af432d5-1fed-4757-8d72-43049f57dc7d",
   "metadata": {},
   "outputs": [],
   "source": [
    "## Building Convolution layer"
   ]
  },
  {
   "cell_type": "code",
   "execution_count": 91,
   "id": "0925df5c-c11f-402d-830e-ff35919738ad",
   "metadata": {},
   "outputs": [
    {
     "name": "stderr",
     "output_type": "stream",
     "text": [
      "C:\\Users\\Subham\\anaconda3\\Lib\\site-packages\\keras\\src\\layers\\convolutional\\base_conv.py:107: UserWarning: Do not pass an `input_shape`/`input_dim` argument to a layer. When using Sequential models, prefer using an `Input(shape)` object as the first layer in the model instead.\n",
      "  super().__init__(activity_regularizer=activity_regularizer, **kwargs)\n"
     ]
    }
   ],
   "source": [
    "model.add(Conv2D(filters=32, kernel_size=3, padding='same', activation='relu', input_shape=(128, 128, 3)))\n",
    "model.add(Conv2D(filters=32, kernel_size=3, activation='relu'))\n",
    "model.add(MaxPooling2D(pool_size=2, strides=2))"
   ]
  },
  {
   "cell_type": "code",
   "execution_count": 93,
   "id": "c9a4c0b5-e1bf-4122-897a-abc29fa4a700",
   "metadata": {},
   "outputs": [],
   "source": [
    "model.add(Conv2D(filters=64, kernel_size=3, padding='same', activation='relu'))\n",
    "model.add(Conv2D(filters=64, kernel_size=3, activation='relu'))\n",
    "model.add(MaxPooling2D(pool_size=2, strides=2))"
   ]
  },
  {
   "cell_type": "code",
   "execution_count": 95,
   "id": "f0a2bc1c-9a53-4452-95da-41f0be27346a",
   "metadata": {},
   "outputs": [],
   "source": [
    "model.add(Conv2D(filters=128, kernel_size=3, padding='same', activation='relu'))\n",
    "model.add(Conv2D(filters=128, kernel_size=3,activation='relu'))\n",
    "model.add(MaxPooling2D(pool_size=2, strides=2))"
   ]
  },
  {
   "cell_type": "code",
   "execution_count": 97,
   "id": "495db72f-0760-4309-af67-f507158c129e",
   "metadata": {},
   "outputs": [],
   "source": [
    "model.add(Conv2D(filters=256, kernel_size=3, padding='same', activation='relu'))\n",
    "model.add(Conv2D(filters=256, kernel_size=3, activation='relu'))\n",
    "model.add(MaxPooling2D(pool_size=2, strides=2))"
   ]
  },
  {
   "cell_type": "code",
   "execution_count": 99,
   "id": "eacc8a41-9197-4dfb-89ce-e8328c4373a7",
   "metadata": {},
   "outputs": [],
   "source": [
    "model.add(Conv2D(filters=512, kernel_size=3, padding='same', activation='relu'))\n",
    "model.add(Conv2D(filters=512, kernel_size=3, activation='relu'))\n",
    "model.add(MaxPooling2D(pool_size=2, strides=2))"
   ]
  },
  {
   "cell_type": "code",
   "execution_count": 101,
   "id": "25a21794-87b3-49fd-a957-ecf55a55a928",
   "metadata": {},
   "outputs": [],
   "source": [
    "model.add(Dropout(0.25))"
   ]
  },
  {
   "cell_type": "code",
   "execution_count": 103,
   "id": "7f2661ad-ca05-4c82-a832-23b9dc490e31",
   "metadata": {},
   "outputs": [],
   "source": [
    "model.add(Flatten())"
   ]
  },
  {
   "cell_type": "code",
   "execution_count": 105,
   "id": "9ef180de-91b7-41e3-bc83-6f34eae510bf",
   "metadata": {},
   "outputs": [],
   "source": [
    "model.add(Dense(units=1500,activation='relu'))"
   ]
  },
  {
   "cell_type": "code",
   "execution_count": 107,
   "id": "a08afa4e-c6ca-408d-a885-234816b23301",
   "metadata": {},
   "outputs": [],
   "source": [
    "model.add(Dropout(0.4))"
   ]
  },
  {
   "cell_type": "code",
   "execution_count": 109,
   "id": "eff48e8f-d8b4-44b7-b62a-ded0774f5cc7",
   "metadata": {},
   "outputs": [],
   "source": [
    "model.add(Dense(units=2,activation='softmax'))"
   ]
  },
  {
   "cell_type": "markdown",
   "id": "7875f767-6c4f-4b29-9c90-656b8fcf4619",
   "metadata": {},
   "source": [
    "# Compiling Model"
   ]
  },
  {
   "cell_type": "code",
   "execution_count": 112,
   "id": "605fcd6e-2680-45e7-91d1-b8132aa48371",
   "metadata": {},
   "outputs": [],
   "source": [
    "model.compile(optimizer=tf.keras.optimizers.Adam(\n",
    "    learning_rate=0.0001),loss='categorical_crossentropy',metrics=['accuracy'])"
   ]
  },
  {
   "cell_type": "code",
   "execution_count": 117,
   "id": "c19fe763-7626-4de3-80ec-10945f08a28d",
   "metadata": {},
   "outputs": [
    {
     "data": {
      "text/html": [
       "<pre style=\"white-space:pre;overflow-x:auto;line-height:normal;font-family:Menlo,'DejaVu Sans Mono',consolas,'Courier New',monospace\"><span style=\"font-weight: bold\">Model: \"sequential_3\"</span>\n",
       "</pre>\n"
      ],
      "text/plain": [
       "\u001b[1mModel: \"sequential_3\"\u001b[0m\n"
      ]
     },
     "metadata": {},
     "output_type": "display_data"
    },
    {
     "data": {
      "text/html": [
       "<pre style=\"white-space:pre;overflow-x:auto;line-height:normal;font-family:Menlo,'DejaVu Sans Mono',consolas,'Courier New',monospace\">┏━━━━━━━━━━━━━━━━━━━━━━━━━━━━━━━━━━━━━━┳━━━━━━━━━━━━━━━━━━━━━━━━━━━━━┳━━━━━━━━━━━━━━━━━┓\n",
       "┃<span style=\"font-weight: bold\"> Layer (type)                         </span>┃<span style=\"font-weight: bold\"> Output Shape                </span>┃<span style=\"font-weight: bold\">         Param # </span>┃\n",
       "┡━━━━━━━━━━━━━━━━━━━━━━━━━━━━━━━━━━━━━━╇━━━━━━━━━━━━━━━━━━━━━━━━━━━━━╇━━━━━━━━━━━━━━━━━┩\n",
       "│ conv2d_46 (<span style=\"color: #0087ff; text-decoration-color: #0087ff\">Conv2D</span>)                   │ (<span style=\"color: #00d7ff; text-decoration-color: #00d7ff\">None</span>, <span style=\"color: #00af00; text-decoration-color: #00af00\">128</span>, <span style=\"color: #00af00; text-decoration-color: #00af00\">128</span>, <span style=\"color: #00af00; text-decoration-color: #00af00\">32</span>)        │             <span style=\"color: #00af00; text-decoration-color: #00af00\">896</span> │\n",
       "├──────────────────────────────────────┼─────────────────────────────┼─────────────────┤\n",
       "│ conv2d_47 (<span style=\"color: #0087ff; text-decoration-color: #0087ff\">Conv2D</span>)                   │ (<span style=\"color: #00d7ff; text-decoration-color: #00d7ff\">None</span>, <span style=\"color: #00af00; text-decoration-color: #00af00\">126</span>, <span style=\"color: #00af00; text-decoration-color: #00af00\">126</span>, <span style=\"color: #00af00; text-decoration-color: #00af00\">32</span>)        │           <span style=\"color: #00af00; text-decoration-color: #00af00\">9,248</span> │\n",
       "├──────────────────────────────────────┼─────────────────────────────┼─────────────────┤\n",
       "│ max_pooling2d_23 (<span style=\"color: #0087ff; text-decoration-color: #0087ff\">MaxPooling2D</span>)      │ (<span style=\"color: #00d7ff; text-decoration-color: #00d7ff\">None</span>, <span style=\"color: #00af00; text-decoration-color: #00af00\">63</span>, <span style=\"color: #00af00; text-decoration-color: #00af00\">63</span>, <span style=\"color: #00af00; text-decoration-color: #00af00\">32</span>)          │               <span style=\"color: #00af00; text-decoration-color: #00af00\">0</span> │\n",
       "├──────────────────────────────────────┼─────────────────────────────┼─────────────────┤\n",
       "│ conv2d_48 (<span style=\"color: #0087ff; text-decoration-color: #0087ff\">Conv2D</span>)                   │ (<span style=\"color: #00d7ff; text-decoration-color: #00d7ff\">None</span>, <span style=\"color: #00af00; text-decoration-color: #00af00\">63</span>, <span style=\"color: #00af00; text-decoration-color: #00af00\">63</span>, <span style=\"color: #00af00; text-decoration-color: #00af00\">64</span>)          │          <span style=\"color: #00af00; text-decoration-color: #00af00\">18,496</span> │\n",
       "├──────────────────────────────────────┼─────────────────────────────┼─────────────────┤\n",
       "│ conv2d_49 (<span style=\"color: #0087ff; text-decoration-color: #0087ff\">Conv2D</span>)                   │ (<span style=\"color: #00d7ff; text-decoration-color: #00d7ff\">None</span>, <span style=\"color: #00af00; text-decoration-color: #00af00\">61</span>, <span style=\"color: #00af00; text-decoration-color: #00af00\">61</span>, <span style=\"color: #00af00; text-decoration-color: #00af00\">64</span>)          │          <span style=\"color: #00af00; text-decoration-color: #00af00\">36,928</span> │\n",
       "├──────────────────────────────────────┼─────────────────────────────┼─────────────────┤\n",
       "│ max_pooling2d_24 (<span style=\"color: #0087ff; text-decoration-color: #0087ff\">MaxPooling2D</span>)      │ (<span style=\"color: #00d7ff; text-decoration-color: #00d7ff\">None</span>, <span style=\"color: #00af00; text-decoration-color: #00af00\">30</span>, <span style=\"color: #00af00; text-decoration-color: #00af00\">30</span>, <span style=\"color: #00af00; text-decoration-color: #00af00\">64</span>)          │               <span style=\"color: #00af00; text-decoration-color: #00af00\">0</span> │\n",
       "├──────────────────────────────────────┼─────────────────────────────┼─────────────────┤\n",
       "│ conv2d_50 (<span style=\"color: #0087ff; text-decoration-color: #0087ff\">Conv2D</span>)                   │ (<span style=\"color: #00d7ff; text-decoration-color: #00d7ff\">None</span>, <span style=\"color: #00af00; text-decoration-color: #00af00\">30</span>, <span style=\"color: #00af00; text-decoration-color: #00af00\">30</span>, <span style=\"color: #00af00; text-decoration-color: #00af00\">128</span>)         │          <span style=\"color: #00af00; text-decoration-color: #00af00\">73,856</span> │\n",
       "├──────────────────────────────────────┼─────────────────────────────┼─────────────────┤\n",
       "│ conv2d_51 (<span style=\"color: #0087ff; text-decoration-color: #0087ff\">Conv2D</span>)                   │ (<span style=\"color: #00d7ff; text-decoration-color: #00d7ff\">None</span>, <span style=\"color: #00af00; text-decoration-color: #00af00\">28</span>, <span style=\"color: #00af00; text-decoration-color: #00af00\">28</span>, <span style=\"color: #00af00; text-decoration-color: #00af00\">128</span>)         │         <span style=\"color: #00af00; text-decoration-color: #00af00\">147,584</span> │\n",
       "├──────────────────────────────────────┼─────────────────────────────┼─────────────────┤\n",
       "│ max_pooling2d_25 (<span style=\"color: #0087ff; text-decoration-color: #0087ff\">MaxPooling2D</span>)      │ (<span style=\"color: #00d7ff; text-decoration-color: #00d7ff\">None</span>, <span style=\"color: #00af00; text-decoration-color: #00af00\">14</span>, <span style=\"color: #00af00; text-decoration-color: #00af00\">14</span>, <span style=\"color: #00af00; text-decoration-color: #00af00\">128</span>)         │               <span style=\"color: #00af00; text-decoration-color: #00af00\">0</span> │\n",
       "├──────────────────────────────────────┼─────────────────────────────┼─────────────────┤\n",
       "│ conv2d_52 (<span style=\"color: #0087ff; text-decoration-color: #0087ff\">Conv2D</span>)                   │ (<span style=\"color: #00d7ff; text-decoration-color: #00d7ff\">None</span>, <span style=\"color: #00af00; text-decoration-color: #00af00\">14</span>, <span style=\"color: #00af00; text-decoration-color: #00af00\">14</span>, <span style=\"color: #00af00; text-decoration-color: #00af00\">256</span>)         │         <span style=\"color: #00af00; text-decoration-color: #00af00\">295,168</span> │\n",
       "├──────────────────────────────────────┼─────────────────────────────┼─────────────────┤\n",
       "│ conv2d_53 (<span style=\"color: #0087ff; text-decoration-color: #0087ff\">Conv2D</span>)                   │ (<span style=\"color: #00d7ff; text-decoration-color: #00d7ff\">None</span>, <span style=\"color: #00af00; text-decoration-color: #00af00\">12</span>, <span style=\"color: #00af00; text-decoration-color: #00af00\">12</span>, <span style=\"color: #00af00; text-decoration-color: #00af00\">256</span>)         │         <span style=\"color: #00af00; text-decoration-color: #00af00\">590,080</span> │\n",
       "├──────────────────────────────────────┼─────────────────────────────┼─────────────────┤\n",
       "│ max_pooling2d_26 (<span style=\"color: #0087ff; text-decoration-color: #0087ff\">MaxPooling2D</span>)      │ (<span style=\"color: #00d7ff; text-decoration-color: #00d7ff\">None</span>, <span style=\"color: #00af00; text-decoration-color: #00af00\">6</span>, <span style=\"color: #00af00; text-decoration-color: #00af00\">6</span>, <span style=\"color: #00af00; text-decoration-color: #00af00\">256</span>)           │               <span style=\"color: #00af00; text-decoration-color: #00af00\">0</span> │\n",
       "├──────────────────────────────────────┼─────────────────────────────┼─────────────────┤\n",
       "│ conv2d_54 (<span style=\"color: #0087ff; text-decoration-color: #0087ff\">Conv2D</span>)                   │ (<span style=\"color: #00d7ff; text-decoration-color: #00d7ff\">None</span>, <span style=\"color: #00af00; text-decoration-color: #00af00\">6</span>, <span style=\"color: #00af00; text-decoration-color: #00af00\">6</span>, <span style=\"color: #00af00; text-decoration-color: #00af00\">512</span>)           │       <span style=\"color: #00af00; text-decoration-color: #00af00\">1,180,160</span> │\n",
       "├──────────────────────────────────────┼─────────────────────────────┼─────────────────┤\n",
       "│ conv2d_55 (<span style=\"color: #0087ff; text-decoration-color: #0087ff\">Conv2D</span>)                   │ (<span style=\"color: #00d7ff; text-decoration-color: #00d7ff\">None</span>, <span style=\"color: #00af00; text-decoration-color: #00af00\">4</span>, <span style=\"color: #00af00; text-decoration-color: #00af00\">4</span>, <span style=\"color: #00af00; text-decoration-color: #00af00\">512</span>)           │       <span style=\"color: #00af00; text-decoration-color: #00af00\">2,359,808</span> │\n",
       "├──────────────────────────────────────┼─────────────────────────────┼─────────────────┤\n",
       "│ max_pooling2d_27 (<span style=\"color: #0087ff; text-decoration-color: #0087ff\">MaxPooling2D</span>)      │ (<span style=\"color: #00d7ff; text-decoration-color: #00d7ff\">None</span>, <span style=\"color: #00af00; text-decoration-color: #00af00\">2</span>, <span style=\"color: #00af00; text-decoration-color: #00af00\">2</span>, <span style=\"color: #00af00; text-decoration-color: #00af00\">512</span>)           │               <span style=\"color: #00af00; text-decoration-color: #00af00\">0</span> │\n",
       "├──────────────────────────────────────┼─────────────────────────────┼─────────────────┤\n",
       "│ dropout_1 (<span style=\"color: #0087ff; text-decoration-color: #0087ff\">Dropout</span>)                  │ (<span style=\"color: #00d7ff; text-decoration-color: #00d7ff\">None</span>, <span style=\"color: #00af00; text-decoration-color: #00af00\">2</span>, <span style=\"color: #00af00; text-decoration-color: #00af00\">2</span>, <span style=\"color: #00af00; text-decoration-color: #00af00\">512</span>)           │               <span style=\"color: #00af00; text-decoration-color: #00af00\">0</span> │\n",
       "├──────────────────────────────────────┼─────────────────────────────┼─────────────────┤\n",
       "│ flatten (<span style=\"color: #0087ff; text-decoration-color: #0087ff\">Flatten</span>)                    │ (<span style=\"color: #00d7ff; text-decoration-color: #00d7ff\">None</span>, <span style=\"color: #00af00; text-decoration-color: #00af00\">2048</span>)                │               <span style=\"color: #00af00; text-decoration-color: #00af00\">0</span> │\n",
       "├──────────────────────────────────────┼─────────────────────────────┼─────────────────┤\n",
       "│ dense (<span style=\"color: #0087ff; text-decoration-color: #0087ff\">Dense</span>)                        │ (<span style=\"color: #00d7ff; text-decoration-color: #00d7ff\">None</span>, <span style=\"color: #00af00; text-decoration-color: #00af00\">1500</span>)                │       <span style=\"color: #00af00; text-decoration-color: #00af00\">3,073,500</span> │\n",
       "├──────────────────────────────────────┼─────────────────────────────┼─────────────────┤\n",
       "│ dropout_2 (<span style=\"color: #0087ff; text-decoration-color: #0087ff\">Dropout</span>)                  │ (<span style=\"color: #00d7ff; text-decoration-color: #00d7ff\">None</span>, <span style=\"color: #00af00; text-decoration-color: #00af00\">1500</span>)                │               <span style=\"color: #00af00; text-decoration-color: #00af00\">0</span> │\n",
       "├──────────────────────────────────────┼─────────────────────────────┼─────────────────┤\n",
       "│ dense_1 (<span style=\"color: #0087ff; text-decoration-color: #0087ff\">Dense</span>)                      │ (<span style=\"color: #00d7ff; text-decoration-color: #00d7ff\">None</span>, <span style=\"color: #00af00; text-decoration-color: #00af00\">2</span>)                   │           <span style=\"color: #00af00; text-decoration-color: #00af00\">3,002</span> │\n",
       "└──────────────────────────────────────┴─────────────────────────────┴─────────────────┘\n",
       "</pre>\n"
      ],
      "text/plain": [
       "┏━━━━━━━━━━━━━━━━━━━━━━━━━━━━━━━━━━━━━━┳━━━━━━━━━━━━━━━━━━━━━━━━━━━━━┳━━━━━━━━━━━━━━━━━┓\n",
       "┃\u001b[1m \u001b[0m\u001b[1mLayer (type)                        \u001b[0m\u001b[1m \u001b[0m┃\u001b[1m \u001b[0m\u001b[1mOutput Shape               \u001b[0m\u001b[1m \u001b[0m┃\u001b[1m \u001b[0m\u001b[1m        Param #\u001b[0m\u001b[1m \u001b[0m┃\n",
       "┡━━━━━━━━━━━━━━━━━━━━━━━━━━━━━━━━━━━━━━╇━━━━━━━━━━━━━━━━━━━━━━━━━━━━━╇━━━━━━━━━━━━━━━━━┩\n",
       "│ conv2d_46 (\u001b[38;5;33mConv2D\u001b[0m)                   │ (\u001b[38;5;45mNone\u001b[0m, \u001b[38;5;34m128\u001b[0m, \u001b[38;5;34m128\u001b[0m, \u001b[38;5;34m32\u001b[0m)        │             \u001b[38;5;34m896\u001b[0m │\n",
       "├──────────────────────────────────────┼─────────────────────────────┼─────────────────┤\n",
       "│ conv2d_47 (\u001b[38;5;33mConv2D\u001b[0m)                   │ (\u001b[38;5;45mNone\u001b[0m, \u001b[38;5;34m126\u001b[0m, \u001b[38;5;34m126\u001b[0m, \u001b[38;5;34m32\u001b[0m)        │           \u001b[38;5;34m9,248\u001b[0m │\n",
       "├──────────────────────────────────────┼─────────────────────────────┼─────────────────┤\n",
       "│ max_pooling2d_23 (\u001b[38;5;33mMaxPooling2D\u001b[0m)      │ (\u001b[38;5;45mNone\u001b[0m, \u001b[38;5;34m63\u001b[0m, \u001b[38;5;34m63\u001b[0m, \u001b[38;5;34m32\u001b[0m)          │               \u001b[38;5;34m0\u001b[0m │\n",
       "├──────────────────────────────────────┼─────────────────────────────┼─────────────────┤\n",
       "│ conv2d_48 (\u001b[38;5;33mConv2D\u001b[0m)                   │ (\u001b[38;5;45mNone\u001b[0m, \u001b[38;5;34m63\u001b[0m, \u001b[38;5;34m63\u001b[0m, \u001b[38;5;34m64\u001b[0m)          │          \u001b[38;5;34m18,496\u001b[0m │\n",
       "├──────────────────────────────────────┼─────────────────────────────┼─────────────────┤\n",
       "│ conv2d_49 (\u001b[38;5;33mConv2D\u001b[0m)                   │ (\u001b[38;5;45mNone\u001b[0m, \u001b[38;5;34m61\u001b[0m, \u001b[38;5;34m61\u001b[0m, \u001b[38;5;34m64\u001b[0m)          │          \u001b[38;5;34m36,928\u001b[0m │\n",
       "├──────────────────────────────────────┼─────────────────────────────┼─────────────────┤\n",
       "│ max_pooling2d_24 (\u001b[38;5;33mMaxPooling2D\u001b[0m)      │ (\u001b[38;5;45mNone\u001b[0m, \u001b[38;5;34m30\u001b[0m, \u001b[38;5;34m30\u001b[0m, \u001b[38;5;34m64\u001b[0m)          │               \u001b[38;5;34m0\u001b[0m │\n",
       "├──────────────────────────────────────┼─────────────────────────────┼─────────────────┤\n",
       "│ conv2d_50 (\u001b[38;5;33mConv2D\u001b[0m)                   │ (\u001b[38;5;45mNone\u001b[0m, \u001b[38;5;34m30\u001b[0m, \u001b[38;5;34m30\u001b[0m, \u001b[38;5;34m128\u001b[0m)         │          \u001b[38;5;34m73,856\u001b[0m │\n",
       "├──────────────────────────────────────┼─────────────────────────────┼─────────────────┤\n",
       "│ conv2d_51 (\u001b[38;5;33mConv2D\u001b[0m)                   │ (\u001b[38;5;45mNone\u001b[0m, \u001b[38;5;34m28\u001b[0m, \u001b[38;5;34m28\u001b[0m, \u001b[38;5;34m128\u001b[0m)         │         \u001b[38;5;34m147,584\u001b[0m │\n",
       "├──────────────────────────────────────┼─────────────────────────────┼─────────────────┤\n",
       "│ max_pooling2d_25 (\u001b[38;5;33mMaxPooling2D\u001b[0m)      │ (\u001b[38;5;45mNone\u001b[0m, \u001b[38;5;34m14\u001b[0m, \u001b[38;5;34m14\u001b[0m, \u001b[38;5;34m128\u001b[0m)         │               \u001b[38;5;34m0\u001b[0m │\n",
       "├──────────────────────────────────────┼─────────────────────────────┼─────────────────┤\n",
       "│ conv2d_52 (\u001b[38;5;33mConv2D\u001b[0m)                   │ (\u001b[38;5;45mNone\u001b[0m, \u001b[38;5;34m14\u001b[0m, \u001b[38;5;34m14\u001b[0m, \u001b[38;5;34m256\u001b[0m)         │         \u001b[38;5;34m295,168\u001b[0m │\n",
       "├──────────────────────────────────────┼─────────────────────────────┼─────────────────┤\n",
       "│ conv2d_53 (\u001b[38;5;33mConv2D\u001b[0m)                   │ (\u001b[38;5;45mNone\u001b[0m, \u001b[38;5;34m12\u001b[0m, \u001b[38;5;34m12\u001b[0m, \u001b[38;5;34m256\u001b[0m)         │         \u001b[38;5;34m590,080\u001b[0m │\n",
       "├──────────────────────────────────────┼─────────────────────────────┼─────────────────┤\n",
       "│ max_pooling2d_26 (\u001b[38;5;33mMaxPooling2D\u001b[0m)      │ (\u001b[38;5;45mNone\u001b[0m, \u001b[38;5;34m6\u001b[0m, \u001b[38;5;34m6\u001b[0m, \u001b[38;5;34m256\u001b[0m)           │               \u001b[38;5;34m0\u001b[0m │\n",
       "├──────────────────────────────────────┼─────────────────────────────┼─────────────────┤\n",
       "│ conv2d_54 (\u001b[38;5;33mConv2D\u001b[0m)                   │ (\u001b[38;5;45mNone\u001b[0m, \u001b[38;5;34m6\u001b[0m, \u001b[38;5;34m6\u001b[0m, \u001b[38;5;34m512\u001b[0m)           │       \u001b[38;5;34m1,180,160\u001b[0m │\n",
       "├──────────────────────────────────────┼─────────────────────────────┼─────────────────┤\n",
       "│ conv2d_55 (\u001b[38;5;33mConv2D\u001b[0m)                   │ (\u001b[38;5;45mNone\u001b[0m, \u001b[38;5;34m4\u001b[0m, \u001b[38;5;34m4\u001b[0m, \u001b[38;5;34m512\u001b[0m)           │       \u001b[38;5;34m2,359,808\u001b[0m │\n",
       "├──────────────────────────────────────┼─────────────────────────────┼─────────────────┤\n",
       "│ max_pooling2d_27 (\u001b[38;5;33mMaxPooling2D\u001b[0m)      │ (\u001b[38;5;45mNone\u001b[0m, \u001b[38;5;34m2\u001b[0m, \u001b[38;5;34m2\u001b[0m, \u001b[38;5;34m512\u001b[0m)           │               \u001b[38;5;34m0\u001b[0m │\n",
       "├──────────────────────────────────────┼─────────────────────────────┼─────────────────┤\n",
       "│ dropout_1 (\u001b[38;5;33mDropout\u001b[0m)                  │ (\u001b[38;5;45mNone\u001b[0m, \u001b[38;5;34m2\u001b[0m, \u001b[38;5;34m2\u001b[0m, \u001b[38;5;34m512\u001b[0m)           │               \u001b[38;5;34m0\u001b[0m │\n",
       "├──────────────────────────────────────┼─────────────────────────────┼─────────────────┤\n",
       "│ flatten (\u001b[38;5;33mFlatten\u001b[0m)                    │ (\u001b[38;5;45mNone\u001b[0m, \u001b[38;5;34m2048\u001b[0m)                │               \u001b[38;5;34m0\u001b[0m │\n",
       "├──────────────────────────────────────┼─────────────────────────────┼─────────────────┤\n",
       "│ dense (\u001b[38;5;33mDense\u001b[0m)                        │ (\u001b[38;5;45mNone\u001b[0m, \u001b[38;5;34m1500\u001b[0m)                │       \u001b[38;5;34m3,073,500\u001b[0m │\n",
       "├──────────────────────────────────────┼─────────────────────────────┼─────────────────┤\n",
       "│ dropout_2 (\u001b[38;5;33mDropout\u001b[0m)                  │ (\u001b[38;5;45mNone\u001b[0m, \u001b[38;5;34m1500\u001b[0m)                │               \u001b[38;5;34m0\u001b[0m │\n",
       "├──────────────────────────────────────┼─────────────────────────────┼─────────────────┤\n",
       "│ dense_1 (\u001b[38;5;33mDense\u001b[0m)                      │ (\u001b[38;5;45mNone\u001b[0m, \u001b[38;5;34m2\u001b[0m)                   │           \u001b[38;5;34m3,002\u001b[0m │\n",
       "└──────────────────────────────────────┴─────────────────────────────┴─────────────────┘\n"
      ]
     },
     "metadata": {},
     "output_type": "display_data"
    },
    {
     "data": {
      "text/html": [
       "<pre style=\"white-space:pre;overflow-x:auto;line-height:normal;font-family:Menlo,'DejaVu Sans Mono',consolas,'Courier New',monospace\"><span style=\"font-weight: bold\"> Total params: </span><span style=\"color: #00af00; text-decoration-color: #00af00\">7,788,726</span> (29.71 MB)\n",
       "</pre>\n"
      ],
      "text/plain": [
       "\u001b[1m Total params: \u001b[0m\u001b[38;5;34m7,788,726\u001b[0m (29.71 MB)\n"
      ]
     },
     "metadata": {},
     "output_type": "display_data"
    },
    {
     "data": {
      "text/html": [
       "<pre style=\"white-space:pre;overflow-x:auto;line-height:normal;font-family:Menlo,'DejaVu Sans Mono',consolas,'Courier New',monospace\"><span style=\"font-weight: bold\"> Trainable params: </span><span style=\"color: #00af00; text-decoration-color: #00af00\">7,788,726</span> (29.71 MB)\n",
       "</pre>\n"
      ],
      "text/plain": [
       "\u001b[1m Trainable params: \u001b[0m\u001b[38;5;34m7,788,726\u001b[0m (29.71 MB)\n"
      ]
     },
     "metadata": {},
     "output_type": "display_data"
    },
    {
     "data": {
      "text/html": [
       "<pre style=\"white-space:pre;overflow-x:auto;line-height:normal;font-family:Menlo,'DejaVu Sans Mono',consolas,'Courier New',monospace\"><span style=\"font-weight: bold\"> Non-trainable params: </span><span style=\"color: #00af00; text-decoration-color: #00af00\">0</span> (0.00 B)\n",
       "</pre>\n"
      ],
      "text/plain": [
       "\u001b[1m Non-trainable params: \u001b[0m\u001b[38;5;34m0\u001b[0m (0.00 B)\n"
      ]
     },
     "metadata": {},
     "output_type": "display_data"
    }
   ],
   "source": [
    "model.summary()"
   ]
  },
  {
   "cell_type": "markdown",
   "id": "53bd0e2b-ef4a-42a5-82fc-1a13b7e11ed8",
   "metadata": {},
   "source": [
    "# Model Training"
   ]
  },
  {
   "cell_type": "code",
   "execution_count": 120,
   "id": "a96794a4-9716-4ab8-baa9-6456bc3feec4",
   "metadata": {
    "scrolled": true
   },
   "outputs": [
    {
     "name": "stdout",
     "output_type": "stream",
     "text": [
      "Epoch 1/10\n",
      "\u001b[1m10/10\u001b[0m \u001b[32m━━━━━━━━━━━━━━━━━━━━\u001b[0m\u001b[37m\u001b[0m \u001b[1m70s\u001b[0m 6s/step - accuracy: 0.4729 - loss: 1.7944 - val_accuracy: 0.5842 - val_loss: 0.6553\n",
      "Epoch 2/10\n",
      "\u001b[1m10/10\u001b[0m \u001b[32m━━━━━━━━━━━━━━━━━━━━\u001b[0m\u001b[37m\u001b[0m \u001b[1m53s\u001b[0m 5s/step - accuracy: 0.5331 - loss: 0.7537 - val_accuracy: 0.6436 - val_loss: 0.6052\n",
      "Epoch 3/10\n",
      "\u001b[1m10/10\u001b[0m \u001b[32m━━━━━━━━━━━━━━━━━━━━\u001b[0m\u001b[37m\u001b[0m \u001b[1m58s\u001b[0m 6s/step - accuracy: 0.5671 - loss: 0.6689 - val_accuracy: 0.4455 - val_loss: 0.7631\n",
      "Epoch 4/10\n",
      "\u001b[1m10/10\u001b[0m \u001b[32m━━━━━━━━━━━━━━━━━━━━\u001b[0m\u001b[37m\u001b[0m \u001b[1m55s\u001b[0m 5s/step - accuracy: 0.6244 - loss: 0.6485 - val_accuracy: 0.6238 - val_loss: 0.6196\n",
      "Epoch 5/10\n",
      "\u001b[1m10/10\u001b[0m \u001b[32m━━━━━━━━━━━━━━━━━━━━\u001b[0m\u001b[37m\u001b[0m \u001b[1m51s\u001b[0m 5s/step - accuracy: 0.7226 - loss: 0.5281 - val_accuracy: 0.8119 - val_loss: 0.4005\n",
      "Epoch 6/10\n",
      "\u001b[1m10/10\u001b[0m \u001b[32m━━━━━━━━━━━━━━━━━━━━\u001b[0m\u001b[37m\u001b[0m \u001b[1m52s\u001b[0m 5s/step - accuracy: 0.8295 - loss: 0.4029 - val_accuracy: 0.8812 - val_loss: 0.3006\n",
      "Epoch 7/10\n",
      "\u001b[1m10/10\u001b[0m \u001b[32m━━━━━━━━━━━━━━━━━━━━\u001b[0m\u001b[37m\u001b[0m \u001b[1m48s\u001b[0m 5s/step - accuracy: 0.8368 - loss: 0.3707 - val_accuracy: 0.8515 - val_loss: 0.3245\n",
      "Epoch 8/10\n",
      "\u001b[1m10/10\u001b[0m \u001b[32m━━━━━━━━━━━━━━━━━━━━\u001b[0m\u001b[37m\u001b[0m \u001b[1m10s\u001b[0m 941ms/step - accuracy: 0.8646 - loss: 0.3436 - val_accuracy: 0.8713 - val_loss: 0.3288\n",
      "Epoch 9/10\n",
      "\u001b[1m10/10\u001b[0m \u001b[32m━━━━━━━━━━━━━━━━━━━━\u001b[0m\u001b[37m\u001b[0m \u001b[1m12s\u001b[0m 1s/step - accuracy: 0.9242 - loss: 0.2493 - val_accuracy: 0.9010 - val_loss: 0.2680\n",
      "Epoch 10/10\n",
      "\u001b[1m10/10\u001b[0m \u001b[32m━━━━━━━━━━━━━━━━━━━━\u001b[0m\u001b[37m\u001b[0m \u001b[1m14s\u001b[0m 1s/step - accuracy: 0.9438 - loss: 0.1868 - val_accuracy: 0.9109 - val_loss: 0.2500\n"
     ]
    }
   ],
   "source": [
    "training_history = model.fit(x=training_set,validation_data=validation_set,epochs=10)"
   ]
  },
  {
   "cell_type": "markdown",
   "id": "313e8c8c-c134-4a96-a5f9-9f35a962310b",
   "metadata": {},
   "source": [
    "\n",
    "## Model Evaluation"
   ]
  },
  {
   "cell_type": "code",
   "execution_count": 123,
   "id": "ea917dbf-a619-4e03-98f1-81bb38dcd834",
   "metadata": {},
   "outputs": [
    {
     "name": "stdout",
     "output_type": "stream",
     "text": [
      "\u001b[1m10/10\u001b[0m \u001b[32m━━━━━━━━━━━━━━━━━━━━\u001b[0m\u001b[37m\u001b[0m \u001b[1m5s\u001b[0m 333ms/step - accuracy: 0.9488 - loss: 0.1609\n"
     ]
    }
   ],
   "source": [
    "# Model Evaluation on Training Set\n",
    "train_loss,train_acc = model.evaluate(training_set)"
   ]
  },
  {
   "cell_type": "code",
   "execution_count": 125,
   "id": "99d27e62-67ca-4e5b-b337-a8bb90613b2e",
   "metadata": {},
   "outputs": [
    {
     "name": "stdout",
     "output_type": "stream",
     "text": [
      "0.13848382234573364 0.9572368264198303\n"
     ]
    }
   ],
   "source": [
    "print(train_loss,train_acc)"
   ]
  },
  {
   "cell_type": "code",
   "execution_count": 127,
   "id": "027de460-75cf-4f28-bd9d-8a0a579b1466",
   "metadata": {},
   "outputs": [
    {
     "name": "stdout",
     "output_type": "stream",
     "text": [
      "\u001b[1m4/4\u001b[0m \u001b[32m━━━━━━━━━━━━━━━━━━━━\u001b[0m\u001b[37m\u001b[0m \u001b[1m2s\u001b[0m 288ms/step - accuracy: 0.9133 - loss: 0.2260\n"
     ]
    }
   ],
   "source": [
    "# Model Evaluation on Validation Set\n",
    "val_loss,val_acc = model.evaluate(validation_set)"
   ]
  },
  {
   "cell_type": "code",
   "execution_count": 129,
   "id": "1b246db8-30e3-4399-82ec-6105488f11f4",
   "metadata": {},
   "outputs": [
    {
     "name": "stdout",
     "output_type": "stream",
     "text": [
      "0.2500411868095398 0.9108911156654358\n"
     ]
    }
   ],
   "source": [
    "print(val_loss,val_acc)"
   ]
  },
  {
   "cell_type": "markdown",
   "id": "54f397da-e645-4187-9363-48c5ea7c88ce",
   "metadata": {},
   "source": [
    "\n",
    "## Saving Model"
   ]
  },
  {
   "cell_type": "code",
   "execution_count": 132,
   "id": "10b63b8b-2d32-48b0-8b5a-54eaddc6e234",
   "metadata": {},
   "outputs": [],
   "source": [
    "model.save(\"trained_model.keras\")"
   ]
  },
  {
   "cell_type": "code",
   "execution_count": 134,
   "id": "11d5df0b-4d03-4b4b-8830-1894c32e190e",
   "metadata": {},
   "outputs": [
    {
     "data": {
      "text/plain": [
       "{'accuracy': [0.5065789222717285,\n",
       "  0.5756579041481018,\n",
       "  0.5789473652839661,\n",
       "  0.6644737124443054,\n",
       "  0.7434210777282715,\n",
       "  0.8092105388641357,\n",
       "  0.8421052694320679,\n",
       "  0.8618420958518982,\n",
       "  0.9177631735801697,\n",
       "  0.9440789222717285],\n",
       " 'loss': [1.4113696813583374,\n",
       "  0.7237436175346375,\n",
       "  0.6588078141212463,\n",
       "  0.6195774078369141,\n",
       "  0.5106997489929199,\n",
       "  0.4554964005947113,\n",
       "  0.3619345724582672,\n",
       "  0.3419423997402191,\n",
       "  0.24459193646907806,\n",
       "  0.19028672575950623],\n",
       " 'val_accuracy': [0.5841584205627441,\n",
       "  0.6435643434524536,\n",
       "  0.4455445408821106,\n",
       "  0.6237623691558838,\n",
       "  0.8118811845779419,\n",
       "  0.8811880946159363,\n",
       "  0.8514851331710815,\n",
       "  0.8712871074676514,\n",
       "  0.9009901285171509,\n",
       "  0.9108911156654358],\n",
       " 'val_loss': [0.655261218547821,\n",
       "  0.6051847338676453,\n",
       "  0.7630724906921387,\n",
       "  0.6195541024208069,\n",
       "  0.4004700183868408,\n",
       "  0.30062106251716614,\n",
       "  0.3245128095149994,\n",
       "  0.3287709057331085,\n",
       "  0.2680366337299347,\n",
       "  0.2500412166118622]}"
      ]
     },
     "execution_count": 134,
     "metadata": {},
     "output_type": "execute_result"
    }
   ],
   "source": [
    "training_history.history"
   ]
  },
  {
   "cell_type": "code",
   "execution_count": 136,
   "id": "3327e138-104c-48c6-bc16-12fe9f96812b",
   "metadata": {},
   "outputs": [],
   "source": [
    "## Recording History in json\n",
    "import json\n",
    "with open (\"training_hist.json\",\"w\") as f:\n",
    "    json.dump(training_history.history,f)"
   ]
  },
  {
   "cell_type": "markdown",
   "id": "915cec15-4fac-4b51-ab47-21ddc250ede3",
   "metadata": {},
   "source": [
    "## Accuracy Visualization"
   ]
  },
  {
   "cell_type": "code",
   "execution_count": 141,
   "id": "b429b3ae-73e2-4f09-9799-3e336fc947ea",
   "metadata": {
    "scrolled": true
   },
   "outputs": [
    {
     "data": {
      "image/png": "[encoded data removed]",
      "text/plain": [
       "<Figure size 640x480 with 1 Axes>"
      ]
     },
     "metadata": {},
     "output_type": "display_data"
    }
   ],
   "source": [
    "epochs = [i for i in range (1,11)]\n",
    "plt.plot(epochs,training_history.history['accuracy'],color='red',label='Training Accuracy')\n",
    "plt.plot(epochs,training_history.history['tra_accuracy'],color='blue',label='Validation Accuracy')\n",
    "plt.xlabel(\"No.of Epochs\")\n",
    "plt.ylabel(\"Accuracy Result\")\n",
    "plt.title(\"Visualization of Accuracy Result\")\n",
    "plt.legend()\n",
    "plt.show()"
   ]
  },
  {
   "cell_type": "markdown",
   "id": "ded689d6-df5e-414e-b14b-1e4c97638905",
   "metadata": {},
   "source": [
    "## Some Other metrics for model evaluation"
   ]
  },
  {
   "cell_type": "code",
   "execution_count": 144,
   "id": "484e0995-b005-4800-a264-5632b821d74c",
   "metadata": {},
   "outputs": [
    {
     "data": {
      "text/plain": [
       "['healthy', 'unhealthy']"
      ]
     },
     "execution_count": 144,
     "metadata": {},
     "output_type": "execute_result"
    }
   ],
   "source": [
    "class_name = validation_set.class_names\n",
    "class_name"
   ]
  },
  {
   "cell_type": "code",
   "execution_count": 146,
   "id": "645710de-19df-434a-8338-9f3cf0ceb8e4",
   "metadata": {},
   "outputs": [
    {
     "name": "stdout",
     "output_type": "stream",
     "text": [
      "Found 124 files belonging to 2 classes.\n"
     ]
    }
   ],
   "source": [
    "test_set = tf.keras.utils.image_dataset_from_directory(\n",
    "    'test',\n",
    "    labels=\"inferred\",\n",
    "    label_mode=\"categorical\",\n",
    "    class_names=None,\n",
    "    color_mode=\"rgb\",\n",
    "    batch_size=32,\n",
    "    image_size=(128, 128),\n",
    "    shuffle=True,\n",
    "    seed=None,\n",
    "    validation_split=None,\n",
    "    subset=None,\n",
    "    interpolation=\"bilinear\",\n",
    "    follow_links=False,\n",
    "    crop_to_aspect_ratio=False,\n",
    "    pad_to_aspect_ratio=False,\n",
    "    data_format=None,\n",
    "    verbose=True,\n",
    ")"
   ]
  },
  {
   "cell_type": "code",
   "execution_count": 148,
   "id": "9f752713-fb1b-40e3-939b-6db05229995c",
   "metadata": {},
   "outputs": [
    {
     "name": "stdout",
     "output_type": "stream",
     "text": [
      "\u001b[1m4/4\u001b[0m \u001b[32m━━━━━━━━━━━━━━━━━━━━\u001b[0m\u001b[37m\u001b[0m \u001b[1m3s\u001b[0m 379ms/step\n"
     ]
    },
    {
     "data": {
      "text/plain": [
       "(array([[6.63634739e-04, 9.99336302e-01],\n",
       "        [9.98571515e-01, 1.42846629e-03],\n",
       "        [1.28688896e-02, 9.87131178e-01],\n",
       "        [3.21523577e-01, 6.78476453e-01],\n",
       "        [9.94799256e-01, 5.20075392e-03],\n",
       "        [8.05999696e-01, 1.94000274e-01],\n",
       "        [5.51298726e-03, 9.94486988e-01],\n",
       "        [1.57788792e-03, 9.98422146e-01],\n",
       "        [2.35154822e-01, 7.64845192e-01],\n",
       "        [9.19269800e-01, 8.07302147e-02],\n",
       "        [2.71061659e-02, 9.72893834e-01],\n",
       "        [3.41930687e-02, 9.65806961e-01],\n",
       "        [1.26674594e-02, 9.87332523e-01],\n",
       "        [9.83842492e-01, 1.61575712e-02],\n",
       "        [1.41512246e-05, 9.99985814e-01],\n",
       "        [2.41875891e-02, 9.75812376e-01],\n",
       "        [2.22433567e-01, 7.77566493e-01],\n",
       "        [9.97810066e-01, 2.18990515e-03],\n",
       "        [1.77585069e-04, 9.99822438e-01],\n",
       "        [9.93000150e-01, 6.99980650e-03],\n",
       "        [8.58893454e-01, 1.41106546e-01],\n",
       "        [1.35080051e-03, 9.98649180e-01],\n",
       "        [9.98912454e-01, 1.08758640e-03],\n",
       "        [8.69727314e-01, 1.30272686e-01],\n",
       "        [8.22916329e-01, 1.77083731e-01],\n",
       "        [1.74694881e-02, 9.82530534e-01],\n",
       "        [9.99532938e-01, 4.67023434e-04],\n",
       "        [2.73221135e-01, 7.26778865e-01],\n",
       "        [2.16652965e-03, 9.97833431e-01],\n",
       "        [7.24103395e-03, 9.92758989e-01],\n",
       "        [9.98571515e-01, 1.42846629e-03],\n",
       "        [3.42708617e-01, 6.57291412e-01],\n",
       "        [2.21471265e-02, 9.77852881e-01],\n",
       "        [7.54573103e-03, 9.92454350e-01],\n",
       "        [1.11325234e-02, 9.88867462e-01],\n",
       "        [1.77154273e-01, 8.22845757e-01],\n",
       "        [1.24622196e-01, 8.75377774e-01],\n",
       "        [3.30080330e-01, 6.69919670e-01],\n",
       "        [9.99466956e-01, 5.33055281e-04],\n",
       "        [5.59866421e-05, 9.99943972e-01],\n",
       "        [8.70228291e-01, 1.29771695e-01],\n",
       "        [8.82520229e-02, 9.11747932e-01],\n",
       "        [9.06477571e-02, 9.09352243e-01],\n",
       "        [8.21251929e-01, 1.78748101e-01],\n",
       "        [4.45436627e-01, 5.54563403e-01],\n",
       "        [2.57370621e-01, 7.42629409e-01],\n",
       "        [2.11120740e-01, 7.88879216e-01],\n",
       "        [9.08734262e-01, 9.12657455e-02],\n",
       "        [8.83893788e-01, 1.16106212e-01],\n",
       "        [6.54998794e-03, 9.93449986e-01],\n",
       "        [2.42550984e-01, 7.57448971e-01],\n",
       "        [9.99254644e-01, 7.45393743e-04],\n",
       "        [9.63310719e-01, 3.66893373e-02],\n",
       "        [9.03740108e-01, 9.62598398e-02],\n",
       "        [3.41576375e-02, 9.65842307e-01],\n",
       "        [4.85437777e-04, 9.99514580e-01],\n",
       "        [8.08715224e-02, 9.19128478e-01],\n",
       "        [3.81002523e-04, 9.99619007e-01],\n",
       "        [1.25751989e-02, 9.87424791e-01],\n",
       "        [1.88458106e-03, 9.98115420e-01],\n",
       "        [5.98037764e-02, 9.40196157e-01],\n",
       "        [3.40791009e-02, 9.65920925e-01],\n",
       "        [9.99532938e-01, 4.67023667e-04],\n",
       "        [3.44224453e-01, 6.55775547e-01],\n",
       "        [9.88243401e-01, 1.17566176e-02],\n",
       "        [7.50077665e-01, 2.49922350e-01],\n",
       "        [6.17938756e-04, 9.99382019e-01],\n",
       "        [2.29302197e-04, 9.99770701e-01],\n",
       "        [9.99785841e-01, 2.14215324e-04],\n",
       "        [7.50077665e-01, 2.49922350e-01],\n",
       "        [9.04058635e-01, 9.59413648e-02],\n",
       "        [8.74493062e-01, 1.25506938e-01],\n",
       "        [6.50326684e-02, 9.34967279e-01],\n",
       "        [9.99785841e-01, 2.14215324e-04],\n",
       "        [7.27035454e-04, 9.99273002e-01],\n",
       "        [9.86107111e-01, 1.38928499e-02],\n",
       "        [5.95409110e-05, 9.99940515e-01],\n",
       "        [2.31853803e-03, 9.97681379e-01],\n",
       "        [2.86088020e-01, 7.13911951e-01],\n",
       "        [1.38652891e-01, 8.61347139e-01],\n",
       "        [9.68337476e-01, 3.16625088e-02],\n",
       "        [7.72892730e-03, 9.92271066e-01],\n",
       "        [9.98594582e-01, 1.40543317e-03],\n",
       "        [3.77268158e-03, 9.96227384e-01],\n",
       "        [3.84426024e-03, 9.96155798e-01],\n",
       "        [1.47210643e-01, 8.52789342e-01],\n",
       "        [4.41737985e-03, 9.95582640e-01],\n",
       "        [9.63310719e-01, 3.66893373e-02],\n",
       "        [9.71815586e-01, 2.81844605e-02],\n",
       "        [9.97290790e-01, 2.70916638e-03],\n",
       "        [5.58246195e-01, 4.41753834e-01],\n",
       "        [3.75061086e-03, 9.96249378e-01],\n",
       "        [9.83171701e-01, 1.68282334e-02],\n",
       "        [9.84639883e-01, 1.53601049e-02],\n",
       "        [1.69781111e-02, 9.83021855e-01],\n",
       "        [8.56442869e-01, 1.43557131e-01],\n",
       "        [3.72550538e-04, 9.99627471e-01],\n",
       "        [9.75876749e-01, 2.41232645e-02],\n",
       "        [9.97548282e-01, 2.45171809e-03],\n",
       "        [7.94041976e-02, 9.20595825e-01],\n",
       "        [2.33822957e-01, 7.66177058e-01],\n",
       "        [3.47764522e-01, 6.52235508e-01],\n",
       "        [9.51259315e-01, 4.87406440e-02],\n",
       "        [9.99428332e-01, 5.71611687e-04],\n",
       "        [9.83842492e-01, 1.61575712e-02],\n",
       "        [6.42258892e-05, 9.99935746e-01],\n",
       "        [2.87978124e-04, 9.99712050e-01],\n",
       "        [4.10114825e-02, 9.58988488e-01],\n",
       "        [2.16886029e-02, 9.78311360e-01],\n",
       "        [7.50077665e-01, 2.49922350e-01],\n",
       "        [3.23751522e-03, 9.96762514e-01],\n",
       "        [5.51819578e-02, 9.44818079e-01],\n",
       "        [9.89927709e-01, 1.00723095e-02],\n",
       "        [9.97859061e-01, 2.14095996e-03],\n",
       "        [8.20588975e-05, 9.99917984e-01],\n",
       "        [9.98848319e-01, 1.15163799e-03],\n",
       "        [9.97859061e-01, 2.14095996e-03],\n",
       "        [9.88243401e-01, 1.17566176e-02],\n",
       "        [9.07190502e-01, 9.28095505e-02],\n",
       "        [9.97810066e-01, 2.18990515e-03],\n",
       "        [8.34506413e-04, 9.99165535e-01],\n",
       "        [9.15403128e-01, 8.45968127e-02],\n",
       "        [9.98848319e-01, 1.15163799e-03],\n",
       "        [9.82198894e-01, 1.78011190e-02]], dtype=float32),\n",
       " (124, 2))"
      ]
     },
     "execution_count": 148,
     "metadata": {},
     "output_type": "execute_result"
    }
   ],
   "source": [
    "y_pred = model.predict(test_set)\n",
    "y_pred,y_pred.shape"
   ]
  },
  {
   "cell_type": "code",
   "execution_count": 150,
   "id": "6d63e7af-4cea-4b6b-b87b-e5c8d4095448",
   "metadata": {},
   "outputs": [],
   "source": [
    "predicted_categories = tf.argmax(y_pred,axis=1)"
   ]
  },
  {
   "cell_type": "code",
   "execution_count": 152,
   "id": "b6ea02b9-95c0-438d-be0d-750d893c93e8",
   "metadata": {},
   "outputs": [
    {
     "data": {
      "text/plain": [
       "<tf.Tensor: shape=(124,), dtype=int64, numpy=\n",
       "array([1, 0, 1, 1, 0, 0, 1, 1, 1, 0, 1, 1, 1, 0, 1, 1, 1, 0, 1, 0, 0, 1,\n",
       "       0, 0, 0, 1, 0, 1, 1, 1, 0, 1, 1, 1, 1, 1, 1, 1, 0, 1, 0, 1, 1, 0,\n",
       "       1, 1, 1, 0, 0, 1, 1, 0, 0, 0, 1, 1, 1, 1, 1, 1, 1, 1, 0, 1, 0, 0,\n",
       "       1, 1, 0, 0, 0, 0, 1, 0, 1, 0, 1, 1, 1, 1, 0, 1, 0, 1, 1, 1, 1, 0,\n",
       "       0, 0, 0, 1, 0, 0, 1, 0, 1, 0, 0, 1, 1, 1, 0, 0, 0, 1, 1, 1, 1, 0,\n",
       "       1, 1, 0, 0, 1, 0, 0, 0, 0, 0, 1, 0, 0, 0], dtype=int64)>"
      ]
     },
     "execution_count": 152,
     "metadata": {},
     "output_type": "execute_result"
    }
   ],
   "source": [
    "predicted_categories"
   ]
  },
  {
   "cell_type": "code",
   "execution_count": 154,
   "id": "44361813-0209-45fd-a7b6-fa6a121ee4dd",
   "metadata": {},
   "outputs": [
    {
     "data": {
      "text/plain": [
       "<tf.Tensor: shape=(124, 2), dtype=float32, numpy=\n",
       "array([[0., 1.],\n",
       "       [1., 0.],\n",
       "       [1., 0.],\n",
       "       [0., 1.],\n",
       "       [0., 1.],\n",
       "       [1., 0.],\n",
       "       [1., 0.],\n",
       "       [0., 1.],\n",
       "       [0., 1.],\n",
       "       [0., 1.],\n",
       "       [1., 0.],\n",
       "       [0., 1.],\n",
       "       [0., 1.],\n",
       "       [0., 1.],\n",
       "       [0., 1.],\n",
       "       [0., 1.],\n",
       "       [0., 1.],\n",
       "       [0., 1.],\n",
       "       [1., 0.],\n",
       "       [0., 1.],\n",
       "       [1., 0.],\n",
       "       [0., 1.],\n",
       "       [0., 1.],\n",
       "       [1., 0.],\n",
       "       [0., 1.],\n",
       "       [0., 1.],\n",
       "       [1., 0.],\n",
       "       [1., 0.],\n",
       "       [0., 1.],\n",
       "       [1., 0.],\n",
       "       [0., 1.],\n",
       "       [0., 1.],\n",
       "       [1., 0.],\n",
       "       [1., 0.],\n",
       "       [0., 1.],\n",
       "       [1., 0.],\n",
       "       [0., 1.],\n",
       "       [1., 0.],\n",
       "       [0., 1.],\n",
       "       [0., 1.],\n",
       "       [0., 1.],\n",
       "       [1., 0.],\n",
       "       [0., 1.],\n",
       "       [1., 0.],\n",
       "       [1., 0.],\n",
       "       [1., 0.],\n",
       "       [0., 1.],\n",
       "       [1., 0.],\n",
       "       [1., 0.],\n",
       "       [1., 0.],\n",
       "       [1., 0.],\n",
       "       [0., 1.],\n",
       "       [0., 1.],\n",
       "       [0., 1.],\n",
       "       [0., 1.],\n",
       "       [1., 0.],\n",
       "       [0., 1.],\n",
       "       [0., 1.],\n",
       "       [0., 1.],\n",
       "       [0., 1.],\n",
       "       [0., 1.],\n",
       "       [1., 0.],\n",
       "       [0., 1.],\n",
       "       [1., 0.],\n",
       "       [0., 1.],\n",
       "       [0., 1.],\n",
       "       [0., 1.],\n",
       "       [0., 1.],\n",
       "       [0., 1.],\n",
       "       [0., 1.],\n",
       "       [0., 1.],\n",
       "       [0., 1.],\n",
       "       [0., 1.],\n",
       "       [1., 0.],\n",
       "       [1., 0.],\n",
       "       [1., 0.],\n",
       "       [0., 1.],\n",
       "       [0., 1.],\n",
       "       [0., 1.],\n",
       "       [0., 1.],\n",
       "       [0., 1.],\n",
       "       [1., 0.],\n",
       "       [0., 1.],\n",
       "       [1., 0.],\n",
       "       [0., 1.],\n",
       "       [0., 1.],\n",
       "       [0., 1.],\n",
       "       [1., 0.],\n",
       "       [1., 0.],\n",
       "       [1., 0.],\n",
       "       [0., 1.],\n",
       "       [0., 1.],\n",
       "       [0., 1.],\n",
       "       [0., 1.],\n",
       "       [1., 0.],\n",
       "       [1., 0.],\n",
       "       [1., 0.],\n",
       "       [0., 1.],\n",
       "       [1., 0.],\n",
       "       [1., 0.],\n",
       "       [1., 0.],\n",
       "       [0., 1.],\n",
       "       [0., 1.],\n",
       "       [0., 1.],\n",
       "       [1., 0.],\n",
       "       [0., 1.],\n",
       "       [0., 1.],\n",
       "       [1., 0.],\n",
       "       [0., 1.],\n",
       "       [1., 0.],\n",
       "       [0., 1.],\n",
       "       [1., 0.],\n",
       "       [0., 1.],\n",
       "       [0., 1.],\n",
       "       [0., 1.],\n",
       "       [1., 0.],\n",
       "       [1., 0.],\n",
       "       [0., 1.],\n",
       "       [1., 0.],\n",
       "       [1., 0.],\n",
       "       [0., 1.],\n",
       "       [1., 0.],\n",
       "       [1., 0.],\n",
       "       [0., 1.]], dtype=float32)>"
      ]
     },
     "execution_count": 154,
     "metadata": {},
     "output_type": "execute_result"
    }
   ],
   "source": [
    "true_categories = tf.concat([y for x,y in test_set],axis=0)\n",
    "true_categories"
   ]
  },
  {
   "cell_type": "code",
   "execution_count": 156,
   "id": "59ba136a-4f16-4e83-908d-c53a8785e25a",
   "metadata": {},
   "outputs": [
    {
     "data": {
      "text/plain": [
       "<tf.Tensor: shape=(124,), dtype=int64, numpy=\n",
       "array([1, 0, 0, 1, 1, 0, 0, 1, 1, 1, 0, 1, 1, 1, 1, 1, 1, 1, 0, 1, 0, 1,\n",
       "       1, 0, 1, 1, 0, 0, 1, 0, 1, 1, 0, 0, 1, 0, 1, 0, 1, 1, 1, 0, 1, 0,\n",
       "       0, 0, 1, 0, 0, 0, 0, 1, 1, 1, 1, 0, 1, 1, 1, 1, 1, 0, 1, 0, 1, 1,\n",
       "       1, 1, 1, 1, 1, 1, 1, 0, 0, 0, 1, 1, 1, 1, 1, 0, 1, 0, 1, 1, 1, 0,\n",
       "       0, 0, 1, 1, 1, 1, 0, 0, 0, 1, 0, 0, 0, 1, 1, 1, 0, 1, 1, 0, 1, 0,\n",
       "       1, 0, 1, 1, 1, 0, 0, 1, 0, 0, 1, 0, 0, 1], dtype=int64)>"
      ]
     },
     "execution_count": 156,
     "metadata": {},
     "output_type": "execute_result"
    }
   ],
   "source": [
    "Y_true = tf.argmax(true_categories,axis=1)\n",
    "Y_true"
   ]
  },
  {
   "cell_type": "code",
   "execution_count": null,
   "id": "57bc58ad-eaed-4887-8b00-215bc4c88064",
   "metadata": {},
   "outputs": [],
   "source": []
  },
  {
   "cell_type": "code",
   "execution_count": 159,
   "id": "d86f765d-3429-4e86-891d-9d1968aa6e19",
   "metadata": {},
   "outputs": [],
   "source": [
    "from sklearn.metrics import classification_report , confusion_matrix"
   ]
  },
  {
   "cell_type": "code",
   "execution_count": 161,
   "id": "390d0616-6896-4933-a4e5-db0c068462a7",
   "metadata": {},
   "outputs": [
    {
     "name": "stdout",
     "output_type": "stream",
     "text": [
      "              precision    recall  f1-score   support\n",
      "\n",
      "     healthy       0.42      0.46      0.44        50\n",
      "   unhealthy       0.61      0.57      0.59        74\n",
      "\n",
      "    accuracy                           0.52       124\n",
      "   macro avg       0.51      0.51      0.51       124\n",
      "weighted avg       0.53      0.52      0.53       124\n",
      "\n"
     ]
    }
   ],
   "source": [
    "print(classification_report(Y_true,predicted_categories,target_names=class_name))"
   ]
  },
  {
   "cell_type": "code",
   "execution_count": 163,
   "id": "e33a4e42-34a8-4d66-9c35-c2cb0ee42695",
   "metadata": {},
   "outputs": [
    {
     "data": {
      "text/plain": [
       "array([[23, 27],\n",
       "       [32, 42]], dtype=int64)"
      ]
     },
     "execution_count": 163,
     "metadata": {},
     "output_type": "execute_result"
    }
   ],
   "source": [
    "cm= confusion_matrix(Y_true,predicted_categories)\n",
    "cm"
   ]
  },
  {
   "cell_type": "code",
   "execution_count": null,
   "id": "92859332-e59f-4aab-9c0f-12470548ac48",
   "metadata": {},
   "outputs": [],
   "source": []
  },
  {
   "cell_type": "markdown",
   "id": "025510dc-8b29-4e53-9e9e-b397be875573",
   "metadata": {},
   "source": [
    "## Confusin Matrix Visualization"
   ]
  },
  {
   "cell_type": "code",
   "execution_count": 167,
   "id": "f9322ade-6742-4e4b-968e-6d38e1bb6f1d",
   "metadata": {},
   "outputs": [
    {
     "data": {
      "text/plain": [
       "<Axes: >"
      ]
     },
     "execution_count": 167,
     "metadata": {},
     "output_type": "execute_result"
    },
    {
     "data": {
      "image/png": "[encoded data removed]",
      "text/plain": [
       "<Figure size 1000x1000 with 2 Axes>"
      ]
     },
     "metadata": {},
     "output_type": "display_data"
    }
   ],
   "source": [
    "plt.figure(figsize=(10,10))\n",
    "sns.heatmap(cm,annot=True)"
   ]
  },
  {
   "cell_type": "code",
   "execution_count": null,
   "id": "e5a74147-c730-45ec-bb47-8f6e7ffad2f1",
   "metadata": {},
   "outputs": [],
   "source": []
  }
 ],
 "metadata": {
  "kernelspec": {
   "display_name": "Python 3 (ipykernel)",
   "language": "python",
   "name": "python3"
  },
  "language_info": {
   "codemirror_mode": {
    "name": "ipython",
    "version": 3
   },
   "file_extension": ".py",
   "mimetype": "text/x-python",
   "name": "python",
   "nbconvert_exporter": "python",
   "pygments_lexer": "ipython3",
   "version": "3.12.4"
  }
 },
 "nbformat": 4,
 "nbformat_minor": 5
}
